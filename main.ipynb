{
 "cells": [
  {
   "cell_type": "markdown",
   "metadata": {},
   "source": [
    "Given the machine code of a Marie program (16-bit), this program will help convert it to Marie source code."
   ]
  },
  {
   "cell_type": "code",
   "execution_count": 7,
   "metadata": {},
   "outputs": [],
   "source": [
    "# import stuff\n",
    "\n",
    "from collections import defaultdict\n",
    "from copy import deepcopy"
   ]
  },
  {
   "cell_type": "code",
   "execution_count": null,
   "metadata": {},
   "outputs": [],
   "source": [
    "# NOTE: the instructions \"A\" and \"0\" map to different source codes.\n",
    "# However, they are interchangeable, but some may be more suitable for certain contexts.\n",
    "\n",
    "num_to_instruction = {\n",
    "    \"3\" : \"Add\",\n",
    "    \"4\" : \"Subt\",\n",
    "    \"B\" : \"AddI\",\n",
    "    \"A\" : \"LoadImmi/Clear\",\n",
    "    \"1\" : \"Load\",\n",
    "    \"D\" : \"LoadI\",\n",
    "    \"2\" : \"Store\",\n",
    "    \"E\" : \"StoreI\",\n",
    "    \"5\" : \"Input\",\n",
    "    \"6\" : \"Output\",\n",
    "    \"9\" : \"Jump\",\n",
    "    \"8\" : \"SkipCond\",\n",
    "    \"0\" : \"JnS/Adr\",\n",
    "    \"C\" : \"JumpI\",\n",
    "    \"7\" : \"Halt\",\n",
    "    \"F\" : \"F\"\n",
    "}   "
   ]
  },
  {
   "cell_type": "code",
   "execution_count": null,
   "metadata": {},
   "outputs": [],
   "source": [
    "# get input\n",
    "# NOTE: uncomment code below if you want to input ONE BY ONE (not recommended as you can't undo)\n",
    "# n = int(input(\"How many instructions: \"))\n",
    "# instructions = [input(f\"Instruction {i}\") for i in range(n)]"
   ]
  },
  {
   "cell_type": "code",
   "execution_count": null,
   "metadata": {},
   "outputs": [],
   "source": [
    "# get input\n",
    "# NOTE: Put machine code separated by newlines or spaces in separate text file\n",
    "machine_code_file = \"machine_code\"\n",
    "with open(\"machine_code.txt\") as f:\n",
    "    instructions = f.read().split()\n",
    "\n",
    "print(list(f\"{x}\" for x in instructions))"
   ]
  },
  {
   "cell_type": "code",
   "execution_count": 11,
   "metadata": {},
   "outputs": [],
   "source": [
    "# generate instructions\n",
    "\n",
    "source_code = []\n",
    "pivot = 0\n",
    "for i, instruction in enumerate(instructions):\n",
    "    # code = f\"{num_to_instruction[instruction[0]]} {instruction[1:]}\"\n",
    "    code = [num_to_instruction[instruction[0]], instruction[1:]]\n",
    "    address = hex(i).upper()\n",
    "    source_code.append((address, code))\n",
    "    if instruction[0] == \"7\":\n",
    "        pivot = i + 1\n",
    "        break\n",
    "\n",
    "for i in range(pivot, len(instructions)):\n",
    "    address = hex(i).upper()\n",
    "    source_code.append((address, instructions[i]))"
   ]
  },
  {
   "cell_type": "code",
   "execution_count": 13,
   "metadata": {},
   "outputs": [],
   "source": [
    "# unfiltered code\n",
    "unfiltered = []\n",
    "for _, code in source_code:\n",
    "    unfiltered.append(code)"
   ]
  },
  {
   "cell_type": "code",
   "execution_count": null,
   "metadata": {},
   "outputs": [],
   "source": [
    "# define variables that will be used to replace the fixed addresses\n",
    "var_to_val = defaultdict(str)\n",
    "adr_to_var = defaultdict(str)\n",
    "filtered_1 = deepcopy(unfiltered)\n",
    "variables = [\"A1\", \"B1\", \"C1\", \"D1\", \"E1\", \"F1\", \"G1\", \"H1\", \"I1\", \"J1\", \"K1\", \"L1\", \"M1\", \"N1\", \"O1\", \"P1\", \"Q1\", \"R1\", \"S1\", \"T1\", \"U1\", \"V1\", \"W1\", \"X1\", \"Y1\", \"Z1\",\n",
    "             \"A2\", \"B2\", \"C2\", \"D2\", \"E2\", \"F2\", \"G2\", \"H2\", \"I2\", \"J2\", \"K2\", \"L2\", \"M2\", \"N2\", \"O2\", \"P2\", \"Q2\", \"R2\", \"S2\", \"T2\", \"U2\", \"V2\", \"W2\", \"X2\", \"Y2\", \"Z2\"]\n",
    "var_indx = 0\n",
    "for i in range(pivot, len(unfiltered)):\n",
    "    new_val = str(int(unfiltered[i], base = 16))\n",
    "    \n",
    "    new_var = variables[var_indx]\n",
    "    var_to_val[new_var] = new_val\n",
    "\n",
    "    var_adr = source_code[i][0][2:]\n",
    "    adr_to_var[\"0\" * (3 - len(var_adr)) + var_adr] = new_var\n",
    "\n",
    "    var_indx += 1\n",
    "\n",
    "    new_code = [f\"{new_var}, DEC\", new_val]\n",
    "    \n",
    "    filtered_1[i] = new_code"
   ]
  },
  {
   "cell_type": "code",
   "execution_count": 15,
   "metadata": {},
   "outputs": [],
   "source": [
    "# sub address for variable names\n",
    "filtered_2 = deepcopy(filtered_1)\n",
    "for i in range(pivot):\n",
    "    curr_code = filtered_2[i]\n",
    "    instruction = curr_code[0]\n",
    "    pointing_adr = curr_code[1]\n",
    "    if pointing_adr in adr_to_var:\n",
    "        pointing_var = adr_to_var[pointing_adr]\n",
    "        new_code = [instruction, pointing_var]\n",
    "        filtered_2[i] = new_code"
   ]
  },
  {
   "cell_type": "code",
   "execution_count": 23,
   "metadata": {},
   "outputs": [],
   "source": [
    "# get rid of JnS/Adr and also unecessary 000's\n",
    "# also define adr_to_func dict\n",
    "filtered_3 = deepcopy(filtered_2)\n",
    "\n",
    "curr_func = 1\n",
    "\n",
    "adr_to_func = defaultdict(str)\n",
    "\n",
    "for i in range(pivot):\n",
    "    code = filtered_3[i]\n",
    "    instruction, val = code\n",
    "    adr = source_code[i][0]\n",
    "    if val == \"000\":\n",
    "        if instruction == \"JnS/Adr\":\n",
    "            filtered_3[i][0] = f\"Func{curr_func},\"\n",
    "\n",
    "            func_adr = source_code[i][0][2:]\n",
    "            adr_to_func[\"0\" * (3 - len(func_adr)) + func_adr] = f\"Func{curr_func}\"\n",
    "\n",
    "            curr_func += 1\n",
    "\n",
    "            filtered_3[i][1] = \"HEX 000\"\n",
    "        \n",
    "        elif instruction == \"Output\" or instruction == \"Halt\":\n",
    "            filtered_3[i][1] = \"\""
   ]
  },
  {
   "cell_type": "code",
   "execution_count": 22,
   "metadata": {},
   "outputs": [],
   "source": [
    "# getting the address of 'functions'\n",
    "# aka the addresses that are the destination of JnS\n",
    "for i in range(pivot):\n",
    "    code = filtered_3[i]\n",
    "    instruction, val = code\n",
    "\n",
    "    pointing_adr = val\n",
    "    if instruction == \"Jump\" and val[:4] != \"Func\" and pointing_adr not in adr_to_func:\n",
    "        func_adr = pointing_adr\n",
    "        adr_to_func[\"0\" * (3 - len(func_adr)) + func_adr] = f\"Func{curr_func}\"\n",
    "        curr_func += 1"
   ]
  },
  {
   "cell_type": "code",
   "execution_count": null,
   "metadata": {},
   "outputs": [
    {
     "data": {
      "text/plain": [
       "defaultdict(str,\n",
       "            {'003': 'Func1',\n",
       "             '004': 'Func2',\n",
       "             '009': 'Func3',\n",
       "             '00A': 'Func4',\n",
       "             '011': 'Func5',\n",
       "             '020': 'Func6',\n",
       "             '021': 'Func7',\n",
       "             '005': 'Func8',\n",
       "             '00B': 'Func9',\n",
       "             '022': 'Func10',\n",
       "             '018': 'Func11',\n",
       "             '014': 'Func12',\n",
       "             '01D': 'Func13'})"
      ]
     },
     "execution_count": 18,
     "metadata": {},
     "output_type": "execute_result"
    }
   ],
   "source": [
    "# address of each function variable\n",
    "adr_to_func"
   ]
  },
  {
   "cell_type": "code",
   "execution_count": 24,
   "metadata": {},
   "outputs": [],
   "source": [
    "# now replace some addresses with function variables\n",
    "filtered_4 = deepcopy(filtered_3)\n",
    "\n",
    "for i in range(pivot):\n",
    "    instruction, pointing_adr = filtered_4[i]\n",
    "    curr_adr = hex(i).upper()[2:]\n",
    "    curr_adr = \"0\" * (3 - len(curr_adr)) + curr_adr\n",
    "    \n",
    "    if instruction[:4] != \"Func\":\n",
    "        if pointing_adr in adr_to_func:\n",
    "            filtered_4[i][1] = adr_to_func[pointing_adr]\n",
    "        if curr_adr in adr_to_func:\n",
    "            new_instruction = f\"{adr_to_func[curr_adr]}, {instruction}\"\n",
    "            filtered_4[i][0] = new_instruction"
   ]
  },
  {
   "cell_type": "code",
   "execution_count": null,
   "metadata": {},
   "outputs": [
    {
     "name": "stdout",
     "output_type": "stream",
     "text": [
      "Load C1\n",
      "Store Func3\n",
      "Jump 005\n",
      "Func1, HEX 000\n",
      "Func2, HEX 000\n",
      "LoadI Func3\n",
      "SkipCond 400\n",
      "Jump 00B\n",
      "Jump 022\n",
      "Func3, HEX 000\n",
      "Func4, HEX 000\n",
      "JnS/Adr Func5\n",
      "Output \n",
      "Load Func3\n",
      "Add B1\n",
      "Store Func3\n",
      "Jump 005\n",
      "Func5, HEX 000\n",
      "SkipCond 000\n",
      "Jump 018\n",
      "Add A1\n",
      "SkipCond 800\n",
      "Jump 014\n",
      "Jump 01D\n",
      "Subt A1\n",
      "SkipCond 000\n",
      "Jump 018\n",
      "Add A1\n",
      "JumpI Func5\n",
      "SkipCond 400\n",
      "Subt A1\n",
      "JumpI Func5\n",
      "Func6, HEX 000\n",
      "Func7, HEX 000\n",
      "Halt \n",
      "A1, DEC 56\n",
      "B1, DEC 1\n",
      "C1, DEC 38\n",
      "D1, DEC 3573\n",
      "E1, DEC 65142\n",
      "F1, DEC 728\n",
      "G1, DEC 63445\n",
      "H1, DEC 735\n",
      "I1, DEC 64233\n"
     ]
    }
   ],
   "source": [
    "# final product\n",
    "final_source_code = '\\n'.join(' '.join(c) for c in filtered_4)\n",
    "print(final_source_code)\n",
    "\n",
    "# uncomment below to write source code to file\n",
    "# marie_source_code_file = \"MARIE_source_code.txt\"\n",
    "# with open (marie_source_code_file, \"w\") as f:\n",
    "#     f.write(final_source_code)"
   ]
  }
 ],
 "metadata": {
  "kernelspec": {
   "display_name": "Python 3",
   "language": "python",
   "name": "python3"
  },
  "language_info": {
   "codemirror_mode": {
    "name": "ipython",
    "version": 3
   },
   "file_extension": ".py",
   "mimetype": "text/x-python",
   "name": "python",
   "nbconvert_exporter": "python",
   "pygments_lexer": "ipython3",
   "version": "3.12.10"
  }
 },
 "nbformat": 4,
 "nbformat_minor": 2
}
